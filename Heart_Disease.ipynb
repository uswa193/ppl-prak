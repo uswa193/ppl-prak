{
  "nbformat": 4,
  "nbformat_minor": 0,
  "metadata": {
    "colab": {
      "provenance": [],
      "authorship_tag": "ABX9TyOLr/k6kteeJ8+8xx0aXQh5",
      "include_colab_link": true
    },
    "kernelspec": {
      "name": "python3",
      "display_name": "Python 3"
    },
    "language_info": {
      "name": "python"
    }
  },
  "cells": [
    {
      "cell_type": "markdown",
      "metadata": {
        "id": "view-in-github",
        "colab_type": "text"
      },
      "source": [
        "<a href=\"https://colab.research.google.com/github/uswa193/ppl-prak/blob/main/Heart_Disease.ipynb\" target=\"_parent\"><img src=\"https://colab.research.google.com/assets/colab-badge.svg\" alt=\"Open In Colab\"/></a>"
      ]
    },
    {
      "cell_type": "code",
      "execution_count": null,
      "metadata": {
        "colab": {
          "base_uri": "https://localhost:8080/"
        },
        "id": "SI0TFlJkiOlN",
        "outputId": "e7d2d179-7699-4484-a363-54ee3e98de72"
      },
      "outputs": [
        {
          "output_type": "stream",
          "name": "stdout",
          "text": [
            "      id  age  sex  cp  trestbps  chol  fbs  restecg  thalach  exang  oldpeak  \\\n",
            "0      1   63    1   1       145   233    1        2      150      0      2.3   \n",
            "1      2   67    1   4       160   286    0        2      108      1      1.5   \n",
            "2      3   67    1   4       120   229    0        2      129      1      2.6   \n",
            "3      4   37    1   3       130   250    0        0      187      0      3.5   \n",
            "4      5   41    0   2       130   204    0        2      172      0      1.4   \n",
            "..   ...  ...  ...  ..       ...   ...  ...      ...      ...    ...      ...   \n",
            "298  299   45    1   1       110   264    0        0      132      0      1.2   \n",
            "299  300   68    1   4       144   193    1        0      141      0      3.4   \n",
            "300  301   57    1   4       130   131    0        0      115      1      1.2   \n",
            "301  302   57    0   2       130   236    0        2      174      0      0.0   \n",
            "302  303   38    1   3       138   175    0        0      173      0      0.0   \n",
            "\n",
            "     slope  \n",
            "0        3  \n",
            "1        2  \n",
            "2        2  \n",
            "3        3  \n",
            "4        1  \n",
            "..     ...  \n",
            "298      2  \n",
            "299      2  \n",
            "300      2  \n",
            "301      2  \n",
            "302      1  \n",
            "\n",
            "[303 rows x 12 columns]\n"
          ]
        }
      ],
      "source": [
        "import numpy as np\n",
        "import pandas as pd\n",
        "from sklearn import preprocessing\n",
        "import scipy.stats as stats\n",
        "\n",
        "data = pd.read_csv(\"heart_disease_patients.csv\")\n",
        "print(data)\n",
        "variabel = ('age','trestbps','chol','thalach','oldpeak')"
      ]
    },
    {
      "cell_type": "code",
      "source": [
        "dataMiss = data.isna().sum()\n",
        "\n",
        "print(dataMiss)\n",
        "\n",
        "data = data.dropna()\n",
        "\n",
        "print(data)"
      ],
      "metadata": {
        "colab": {
          "base_uri": "https://localhost:8080/"
        },
        "id": "kjJ1-lDWkutb",
        "outputId": "36e4d4e8-b017-4674-fa46-503d4e5bace1"
      },
      "execution_count": null,
      "outputs": [
        {
          "output_type": "stream",
          "name": "stdout",
          "text": [
            "id          0\n",
            "age         0\n",
            "sex         0\n",
            "cp          0\n",
            "trestbps    0\n",
            "chol        0\n",
            "fbs         0\n",
            "restecg     0\n",
            "thalach     0\n",
            "exang       0\n",
            "oldpeak     0\n",
            "slope       0\n",
            "dtype: int64\n",
            "      id  age  sex  cp  trestbps  chol  fbs  restecg  thalach  exang  oldpeak  \\\n",
            "0      1   63    1   1       145   233    1        2      150      0      2.3   \n",
            "1      2   67    1   4       160   286    0        2      108      1      1.5   \n",
            "2      3   67    1   4       120   229    0        2      129      1      2.6   \n",
            "3      4   37    1   3       130   250    0        0      187      0      3.5   \n",
            "4      5   41    0   2       130   204    0        2      172      0      1.4   \n",
            "..   ...  ...  ...  ..       ...   ...  ...      ...      ...    ...      ...   \n",
            "298  299   45    1   1       110   264    0        0      132      0      1.2   \n",
            "299  300   68    1   4       144   193    1        0      141      0      3.4   \n",
            "300  301   57    1   4       130   131    0        0      115      1      1.2   \n",
            "301  302   57    0   2       130   236    0        2      174      0      0.0   \n",
            "302  303   38    1   3       138   175    0        0      173      0      0.0   \n",
            "\n",
            "     slope  \n",
            "0        3  \n",
            "1        2  \n",
            "2        2  \n",
            "3        3  \n",
            "4        1  \n",
            "..     ...  \n",
            "298      2  \n",
            "299      2  \n",
            "300      2  \n",
            "301      2  \n",
            "302      1  \n",
            "\n",
            "[303 rows x 12 columns]\n"
          ]
        }
      ]
    },
    {
      "cell_type": "code",
      "source": [
        "data = data[(np.abs(stats.zscore(data)) < 3).all(axis=1)]\n",
        "\n",
        "outliers = []\n",
        "def detect_outlier(data):\n",
        "\n",
        "    threshold = 3\n",
        "    mean_1 = np.mean(data)\n",
        "    std_1 = np.std(data)\n",
        "\n",
        "    for y in data:\n",
        "        z_score= (y - mean_1)/std_1\n",
        "        if np.abs(z_score) > threshold:\n",
        "            outliers.append(y)\n",
        "    return outliers\n",
        "\n",
        "for var in variabel:\n",
        "    outlier_datapoints = detect_outlier(data[var])\n",
        "    print(\"Outlier \", var, \" = \", outlier_datapoints)\n",
        "\n",
        "print()"
      ],
      "metadata": {
        "colab": {
          "base_uri": "https://localhost:8080/"
        },
        "id": "XFivrCcckzHZ",
        "outputId": "9500f317-fb70-4e1c-800a-08a7295f67ff"
      },
      "execution_count": null,
      "outputs": [
        {
          "output_type": "stream",
          "name": "stdout",
          "text": [
            "Outlier  age  =  []\n",
            "Outlier  trestbps  =  []\n",
            "Outlier  chol  =  [394]\n",
            "Outlier  thalach  =  [394]\n",
            "Outlier  oldpeak  =  [394, 4.4]\n",
            "\n"
          ]
        }
      ]
    },
    {
      "cell_type": "code",
      "source": [
        "z_scores = stats.zscore(data)\n",
        "abs_z_scores = np.abs(z_scores)\n",
        "filtered_entries = (abs_z_scores < 3).all(axis=1)\n",
        "new_data = data[filtered_entries]\n",
        "\n",
        "print(new_data)"
      ],
      "metadata": {
        "colab": {
          "base_uri": "https://localhost:8080/"
        },
        "id": "6JmfZpM7lBqV",
        "outputId": "00be566d-7ac5-4da9-b67b-c98f408aec5f"
      },
      "execution_count": null,
      "outputs": [
        {
          "output_type": "stream",
          "name": "stdout",
          "text": [
            "      id  age  sex  cp  trestbps  chol  fbs  restecg  thalach  exang  oldpeak  \\\n",
            "0      1   63    1   1       145   233    1        2      150      0      2.3   \n",
            "1      2   67    1   4       160   286    0        2      108      1      1.5   \n",
            "2      3   67    1   4       120   229    0        2      129      1      2.6   \n",
            "3      4   37    1   3       130   250    0        0      187      0      3.5   \n",
            "4      5   41    0   2       130   204    0        2      172      0      1.4   \n",
            "..   ...  ...  ...  ..       ...   ...  ...      ...      ...    ...      ...   \n",
            "298  299   45    1   1       110   264    0        0      132      0      1.2   \n",
            "299  300   68    1   4       144   193    1        0      141      0      3.4   \n",
            "300  301   57    1   4       130   131    0        0      115      1      1.2   \n",
            "301  302   57    0   2       130   236    0        2      174      0      0.0   \n",
            "302  303   38    1   3       138   175    0        0      173      0      0.0   \n",
            "\n",
            "     slope  \n",
            "0        3  \n",
            "1        2  \n",
            "2        2  \n",
            "3        3  \n",
            "4        1  \n",
            "..     ...  \n",
            "298      2  \n",
            "299      2  \n",
            "300      2  \n",
            "301      2  \n",
            "302      1  \n",
            "\n",
            "[292 rows x 12 columns]\n"
          ]
        }
      ]
    },
    {
      "cell_type": "code",
      "source": [
        "print(data.isna().sum())"
      ],
      "metadata": {
        "colab": {
          "base_uri": "https://localhost:8080/"
        },
        "id": "fWFxyZZRlEdM",
        "outputId": "1be91c58-6239-4111-e3b9-181edd68aa51"
      },
      "execution_count": null,
      "outputs": [
        {
          "output_type": "stream",
          "name": "stdout",
          "text": [
            "id          0\n",
            "age         0\n",
            "sex         0\n",
            "cp          0\n",
            "trestbps    0\n",
            "chol        0\n",
            "fbs         0\n",
            "restecg     0\n",
            "thalach     0\n",
            "exang       0\n",
            "oldpeak     0\n",
            "slope       0\n",
            "dtype: int64\n"
          ]
        }
      ]
    },
    {
      "cell_type": "code",
      "source": [
        "# Baca Data\n",
        "df = pd.DataFrame(data)\n",
        "print(df)\n",
        "\n",
        "# Normalisasi data\n",
        "min_max_scaler = preprocessing.MinMaxScaler()\n",
        "np_scaled = min_max_scaler.fit_transform(df)\n",
        "df_normalized = pd.DataFrame(np_scaled)\n",
        "\n",
        "# Pembacaan data setelah dinormalisasi\n",
        "print(\"\\nData hasil normalisasi:\\n\", df_normalized)"
      ],
      "metadata": {
        "colab": {
          "base_uri": "https://localhost:8080/"
        },
        "id": "c3gz0IL-nJKc",
        "outputId": "1bf2d39a-a08e-4939-8af5-9be2ffe5a82d"
      },
      "execution_count": null,
      "outputs": [
        {
          "output_type": "stream",
          "name": "stdout",
          "text": [
            "      id  age  sex  cp  trestbps  chol  fbs  restecg  thalach  exang  oldpeak  \\\n",
            "0      1   63    1   1       145   233    1        2      150      0      2.3   \n",
            "1      2   67    1   4       160   286    0        2      108      1      1.5   \n",
            "2      3   67    1   4       120   229    0        2      129      1      2.6   \n",
            "3      4   37    1   3       130   250    0        0      187      0      3.5   \n",
            "4      5   41    0   2       130   204    0        2      172      0      1.4   \n",
            "..   ...  ...  ...  ..       ...   ...  ...      ...      ...    ...      ...   \n",
            "298  299   45    1   1       110   264    0        0      132      0      1.2   \n",
            "299  300   68    1   4       144   193    1        0      141      0      3.4   \n",
            "300  301   57    1   4       130   131    0        0      115      1      1.2   \n",
            "301  302   57    0   2       130   236    0        2      174      0      0.0   \n",
            "302  303   38    1   3       138   175    0        0      173      0      0.0   \n",
            "\n",
            "     slope  \n",
            "0        3  \n",
            "1        2  \n",
            "2        2  \n",
            "3        3  \n",
            "4        1  \n",
            "..     ...  \n",
            "298      2  \n",
            "299      2  \n",
            "300      2  \n",
            "301      2  \n",
            "302      1  \n",
            "\n",
            "[294 rows x 12 columns]\n",
            "\n",
            "Data hasil normalisasi:\n",
            "            0         1    2         3         4         5    6    7   \\\n",
            "0    0.000000  0.708333  1.0  0.000000  0.593023  0.399254  1.0  1.0   \n",
            "1    0.003311  0.791667  1.0  1.000000  0.767442  0.597015  0.0  1.0   \n",
            "2    0.006623  0.791667  1.0  1.000000  0.302326  0.384328  0.0  1.0   \n",
            "3    0.009934  0.166667  1.0  0.666667  0.418605  0.462687  0.0  0.0   \n",
            "4    0.013245  0.250000  0.0  0.333333  0.418605  0.291045  0.0  1.0   \n",
            "..        ...       ...  ...       ...       ...       ...  ...  ...   \n",
            "289  0.986755  0.333333  1.0  0.000000  0.186047  0.514925  0.0  0.0   \n",
            "290  0.990066  0.812500  1.0  1.000000  0.581395  0.250000  1.0  0.0   \n",
            "291  0.993377  0.583333  1.0  1.000000  0.418605  0.018657  0.0  0.0   \n",
            "292  0.996689  0.583333  0.0  0.333333  0.418605  0.410448  0.0  1.0   \n",
            "293  1.000000  0.187500  1.0  0.666667  0.511628  0.182836  0.0  0.0   \n",
            "\n",
            "           8    9         10   11  \n",
            "0    0.543860  0.0  0.522727  1.0  \n",
            "1    0.175439  1.0  0.340909  0.5  \n",
            "2    0.359649  1.0  0.590909  0.5  \n",
            "3    0.868421  0.0  0.795455  1.0  \n",
            "4    0.736842  0.0  0.318182  0.0  \n",
            "..        ...  ...       ...  ...  \n",
            "289  0.385965  0.0  0.272727  0.5  \n",
            "290  0.464912  0.0  0.772727  0.5  \n",
            "291  0.236842  1.0  0.272727  0.5  \n",
            "292  0.754386  0.0  0.000000  0.5  \n",
            "293  0.745614  0.0  0.000000  0.0  \n",
            "\n",
            "[294 rows x 12 columns]\n"
          ]
        }
      ]
    }
  ]
}